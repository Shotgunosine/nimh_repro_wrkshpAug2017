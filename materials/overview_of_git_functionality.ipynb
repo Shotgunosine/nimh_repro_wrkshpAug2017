{
 "cells": [
  {
   "cell_type": "markdown",
   "metadata": {},
   "source": [
    "# Introduction to Version Control and Git"
   ]
  },
  {
   "cell_type": "markdown",
   "metadata": {},
   "source": [
    "**The following content is adapted (and greatly contracted) from git course maintained by** [Software Carpentry](http://software-carpentry.org)"
   ]
  },
  {
   "cell_type": "markdown",
   "metadata": {},
   "source": [
    "Version control systems start with a base version of the document and\n",
    "then save just the changes you made at each step of the way. You can\n",
    "think of it as a tape: if you rewind the tape and start at the base\n",
    "document, then you can play back each change and end up with your\n",
    "latest version."
   ]
  },
  {
   "cell_type": "markdown",
   "metadata": {},
   "source": [
    "![Changes Are Saved Sequentially](figures/play_changes.png)"
   ]
  },
  {
   "cell_type": "markdown",
   "metadata": {},
   "source": [
    "Once you think of changes as separate from the document itself, you\n",
    "can then think about \"playing back\" different sets of changes onto the\n",
    "base document and getting different versions of the document. For\n",
    "example, two users can make independent sets of changes based on the\n",
    "same document."
   ]
  },
  {
   "cell_type": "markdown",
   "metadata": {},
   "source": [
    "![Different Versions Can be Saved](figures/versions.png)"
   ]
  },
  {
   "cell_type": "markdown",
   "metadata": {},
   "source": [
    "If there aren't conflicts, you can even play two sets of changes onto the same base document."
   ]
  },
  {
   "cell_type": "markdown",
   "metadata": {},
   "source": [
    "![Multiple Versions Can be Merged](figures/merge.png)"
   ]
  },
  {
   "cell_type": "markdown",
   "metadata": {},
   "source": [
    "A version control system is a tool that keeps track of these changes for us and\n",
    "helps us version and merge our files. It allows you to\n",
    "decide which changes make up the next version, called a\n",
    "[commit]({{ page.root }}/reference/#commit), and keeps useful metadata about them. The\n",
    "complete history of commits for a particular project and their metadata make up\n",
    "a [repository]({{ page.root }}/reference/#repository). Repositories can be kept in sync\n",
    "across different computers facilitating collaboration among different people."
   ]
  },
  {
   "cell_type": "markdown",
   "metadata": {},
   "source": [
    "# Versioning edits with Git"
   ]
  },
  {
   "cell_type": "markdown",
   "metadata": {},
   "source": [
    "##### Questions:\n",
    "- \"How do I record changes in Git?\"\n",
    "- \"How do I record notes about what changes I made and why?\"\n",
    "\n",
    "##### Objectives:\n",
    "- \"Go through the modify-add-commit cycle for one or more files.\"\n",
    "- \"Explain where information is stored at each stage of Git commit workflow.\"\n",
    "\n",
    "##### Keypoints:\n",
    "- \"Files can be stored in a project's working directory (which users see), the staging area (where the next commit is being built up) and the local repository (where commits are permanently recorded).\"\n",
    "- \"`git add` puts files in the staging area.\"\n",
    "- \"`git commit` saves the staged content as a new commit in the local repository.\"\n",
    "- \"Always write a log message when committing changes.\"\n",
    "- \"View previous commits using the `git log` command.\""
   ]
  },
  {
   "cell_type": "markdown",
   "metadata": {},
   "source": [
    "##  Repository setup"
   ]
  },
  {
   "cell_type": "markdown",
   "metadata": {},
   "source": [
    "For a quick refresher in git we will use a repository we have all, already contributed to..."
   ]
  },
  {
   "cell_type": "code",
   "execution_count": 2,
   "metadata": {
    "collapsed": false
   },
   "outputs": [
    {
     "name": "stdout",
     "output_type": "stream",
     "text": [
      "Cloning into 'nimh_repro_wrkshpAug2017'...\r\n",
      "remote: Counting objects: 123, done.\u001b[K\r\n",
      "remote: Compressing objects:   7% (1/13)   \u001b[K\r",
      "remote: Compressing objects:  15% (2/13)   \u001b[K\r",
      "remote: Compressing objects:  23% (3/13)   \u001b[K\r",
      "remote: Compressing objects:  30% (4/13)   \u001b[K\r",
      "remote: Compressing objects:  38% (5/13)   \u001b[K\r",
      "remote: Compressing objects:  46% (6/13)   \u001b[K\r",
      "remote: Compressing objects:  53% (7/13)   \u001b[K\r",
      "remote: Compressing objects:  61% (8/13)   \u001b[K\r",
      "remote: Compressing objects:  69% (9/13)   \u001b[K\r",
      "remote: Compressing objects:  76% (10/13)   \u001b[K\r",
      "remote: Compressing objects:  84% (11/13)   \u001b[K\r",
      "remote: Compressing objects:  92% (12/13)   \u001b[K\r",
      "remote: Compressing objects: 100% (13/13)   \u001b[K\r",
      "remote: Compressing objects: 100% (13/13), done.\u001b[K\r\n",
      "remote: Total 123 (delta 4), reused 10 (delta 1), pack-reused 109\u001b[K\r\n",
      "Receiving objects:   0% (1/123)   \r",
      "Receiving objects:   1% (2/123)   \r",
      "Receiving objects:   2% (3/123)   \r",
      "Receiving objects:   3% (4/123)   \r",
      "Receiving objects:   4% (5/123)   \r",
      "Receiving objects:   5% (7/123)   \r",
      "Receiving objects:   6% (8/123)   \r",
      "Receiving objects:   7% (9/123)   \r",
      "Receiving objects:   8% (10/123)   \r",
      "Receiving objects:   9% (12/123)   \r",
      "Receiving objects:  10% (13/123)   \r",
      "Receiving objects:  11% (14/123)   \r",
      "Receiving objects:  12% (15/123)   \r",
      "Receiving objects:  13% (16/123)   \r",
      "Receiving objects:  14% (18/123)   \r",
      "Receiving objects:  15% (19/123)   \r",
      "Receiving objects:  16% (20/123)   \r",
      "Receiving objects:  17% (21/123)   \r",
      "Receiving objects:  18% (23/123)   \r",
      "Receiving objects:  19% (24/123)   \r",
      "Receiving objects:  20% (25/123)   \r",
      "Receiving objects:  21% (26/123)   \r",
      "Receiving objects:  22% (28/123)   \r",
      "Receiving objects:  23% (29/123)   \r",
      "Receiving objects:  24% (30/123)   \r",
      "Receiving objects:  25% (31/123)   \r",
      "Receiving objects:  26% (32/123)   \r",
      "Receiving objects:  27% (34/123)   \r",
      "Receiving objects:  28% (35/123)   \r",
      "Receiving objects:  29% (36/123)   \r",
      "Receiving objects:  30% (37/123)   \r",
      "Receiving objects:  31% (39/123)   \r",
      "Receiving objects:  32% (40/123)   \r",
      "Receiving objects:  33% (41/123)   \r",
      "Receiving objects:  34% (42/123)   \r",
      "Receiving objects:  35% (44/123)   \r",
      "Receiving objects:  36% (45/123)   \r",
      "Receiving objects:  37% (46/123)   \r",
      "Receiving objects:  38% (47/123)   \r",
      "Receiving objects:  39% (48/123)   \r",
      "Receiving objects:  40% (50/123)   \r",
      "Receiving objects:  41% (51/123)   \r",
      "Receiving objects:  42% (52/123)   \r",
      "Receiving objects:  43% (53/123)   \r",
      "Receiving objects:  44% (55/123)   \r",
      "Receiving objects:  45% (56/123)   \r",
      "Receiving objects:  46% (57/123)   \r",
      "Receiving objects:  47% (58/123)   \r",
      "Receiving objects:  48% (60/123)   \r",
      "Receiving objects:  49% (61/123)   \r",
      "Receiving objects:  50% (62/123)   \r",
      "Receiving objects:  51% (63/123)   \r",
      "Receiving objects:  52% (64/123)   \r",
      "Receiving objects:  53% (66/123)   \r",
      "Receiving objects:  54% (67/123)   \r",
      "Receiving objects:  55% (68/123)   \r",
      "Receiving objects:  56% (69/123)   \r",
      "Receiving objects:  57% (71/123)   \r",
      "Receiving objects:  58% (72/123)   \r",
      "Receiving objects:  59% (73/123)   \r",
      "Receiving objects:  60% (74/123)   \r",
      "Receiving objects:  61% (76/123)   \r",
      "Receiving objects:  62% (77/123)   \r",
      "Receiving objects:  63% (78/123)   \r",
      "Receiving objects:  64% (79/123)   \r",
      "Receiving objects:  65% (80/123)   \r",
      "Receiving objects:  66% (82/123)   \r",
      "Receiving objects:  67% (83/123)   \r",
      "Receiving objects:  68% (84/123)   \r",
      "Receiving objects:  69% (85/123)   \r",
      "Receiving objects:  70% (87/123)   \r",
      "Receiving objects:  71% (88/123)   \r",
      "Receiving objects:  72% (89/123)   \r",
      "Receiving objects:  73% (90/123)   \r",
      "Receiving objects:  74% (92/123)   \r",
      "Receiving objects:  75% (93/123)   \r",
      "Receiving objects:  76% (94/123)   \r",
      "Receiving objects:  77% (95/123)   \r",
      "Receiving objects:  78% (96/123)   \r",
      "Receiving objects:  79% (98/123)   \r",
      "Receiving objects:  80% (99/123)   \r",
      "Receiving objects:  81% (100/123)   \r",
      "Receiving objects:  82% (101/123)   \r",
      "Receiving objects:  83% (103/123)   \r",
      "Receiving objects:  84% (104/123)   \r",
      "Receiving objects:  85% (105/123)   \r",
      "Receiving objects:  86% (106/123)   \r",
      "Receiving objects:  87% (108/123)   \r",
      "Receiving objects:  88% (109/123)   \r",
      "Receiving objects:  89% (110/123)   \r",
      "Receiving objects:  90% (111/123)   \r",
      "Receiving objects:  91% (112/123)   \r",
      "Receiving objects:  92% (114/123)   \r",
      "Receiving objects:  93% (115/123)   \r",
      "Receiving objects:  94% (116/123)   \r",
      "Receiving objects:  95% (117/123)   \r",
      "Receiving objects:  96% (119/123)   \r",
      "Receiving objects:  97% (120/123)   \r",
      "Receiving objects:  98% (121/123)   \r",
      "Receiving objects:  99% (122/123)   \r",
      "Receiving objects: 100% (123/123)   \r",
      "Receiving objects: 100% (123/123), 15.96 KiB | 0 bytes/s, done.\r\n",
      "Resolving deltas:   0% (0/36)   \r",
      "Resolving deltas:   2% (1/36)   \r",
      "Resolving deltas:   5% (2/36)   \r",
      "Resolving deltas:  19% (7/36)   \r",
      "Resolving deltas:  25% (9/36)   \r",
      "Resolving deltas: 100% (36/36)   \r",
      "Resolving deltas: 100% (36/36), done.\r\n",
      "On branch master\r\n",
      "Your branch is up-to-date with 'origin/master'.\r\n",
      "nothing to commit, working tree clean\r\n"
     ]
    }
   ],
   "source": [
    "git clone https://github.com/leej3/nimh_repro_wrkshpAug2017.git\n",
    "cd nimh_repro_wrkshpAug2017\n",
    "git status"
   ]
  },
  {
   "cell_type": "markdown",
   "metadata": {},
   "source": [
    "## The Git life-cycle"
   ]
  },
  {
   "cell_type": "markdown",
   "metadata": {},
   "source": [
    "> ##### The staging area helps to keep track of different changes\n",
    "> \n",
    "> If you think of Git as taking snapshots of changes over the life of a\n",
    "> project, \"git add\" specifies *what* will go in a snapshot (putting things in\n",
    "> the staging area), and \"git commit\" then *actually takes* the snapshot, and\n",
    "> makes a permanent record of it (as a commit). If you don't have anything\n",
    "> staged when you type \"git commit\", Git will prompt you to use \"git commit -a\"\n",
    "> or \"git commit --all\", which is kind of like gathering *everyone* for the\n",
    "> picture! However, it's almost always better to explicitly add things to the\n",
    "> staging area, because you might commit changes you forgot you made. Try to\n",
    "> stage things manually, or you might find yourself searching for \"git undo\n",
    "> commit\" more than you would like!\n",
    "\n",
    "> ![](figures/git_local_overview.png)"
   ]
  },
  {
   "cell_type": "markdown",
   "metadata": {},
   "source": [
    "\n",
    "\n",
    "We shall go through the typical git life-cycle of \n",
    "+ making a change\n",
    "+ adding our change to the staging area\n",
    "+ committing the staged changes"
   ]
  },
  {
   "cell_type": "markdown",
   "metadata": {},
   "source": [
    "To start let us all edit the participant.txt and add our favourite animal noise...\n",
    "\n",
    "Once we've done that we stage our change:"
   ]
  },
  {
   "cell_type": "raw",
   "metadata": {
    "collapsed": true
   },
   "source": [
    "git add participants.txt"
   ]
  },
  {
   "cell_type": "markdown",
   "metadata": {},
   "source": [
    "Having staged the file we can now commit our change providing a useful commit message:"
   ]
  },
  {
   "cell_type": "raw",
   "metadata": {},
   "source": [
    "git commit -m \"add j lee favourite animal noise\""
   ]
  },
  {
   "cell_type": "markdown",
   "metadata": {},
   "source": [
    "When we run \"git commit\", Git takes everything we have told it to save by using\n",
    "\"git add\" and stores a copy permanently inside the special `.git` directory.\n",
    "This permanent copy is called a commit (or\n",
    "revision and its short identifier is\n",
    "an alpha-numeric string within the square brackets on the first line of the output above.\n",
    "\n",
    "We use the `-m` flag (for \"message\") to record a short, descriptive, and\n",
    "specific comment that will help us remember later on what we did and why. If we\n",
    "just run \"git commit\" without the `-m` option, Git will launch \n",
    "whatever editor we have configured as `core.editor` with which we can write a\n",
    "longer message.\n",
    "\n",
    "[Good commit messages](http://tbaggery.com/2008/04/19/a-note-about-git-commit-messages.html) start with a brief (<50 characters) summary of\n",
    "changes made in the commit.  If you want to go into more detail, add\n",
    "a blank line between the summary line and your additional notes."
   ]
  },
  {
   "cell_type": "markdown",
   "metadata": {},
   "source": [
    "Now when we run \"git status\" we see:"
   ]
  },
  {
   "cell_type": "code",
   "execution_count": 17,
   "metadata": {
    "collapsed": false
   },
   "outputs": [
    {
     "name": "stdout",
     "output_type": "stream",
     "text": [
      "On branch master\n",
      "nothing to commit, working directory clean\n"
     ]
    }
   ],
   "source": [
    "git status"
   ]
  },
  {
   "cell_type": "markdown",
   "metadata": {},
   "source": [
    "Our file is now once more in an unmodified\n",
    "state. When we look at our repository's history we can observe our commit. For\n",
    "this, we use \"git log\" (we can include the \"-p\" flag to view the actual changes we made to the file):"
   ]
  },
  {
   "cell_type": "raw",
   "metadata": {},
   "source": [
    "git log"
   ]
  },
  {
   "cell_type": "markdown",
   "metadata": {},
   "source": [
    "\"git log\" lists all commits  made to a repository in reverse chronological\n",
    "order. The listing for each commit includes the commit's full identifier (which\n",
    "starts with the same characters as the short identifier printed by the `git\n",
    "commit` command earlier), the commit's author, when it was created, and the log\n",
    "message Git was given when the commit was created."
   ]
  },
  {
   "cell_type": "markdown",
   "metadata": {},
   "source": [
    "## Other useful commands for work with a local git repo"
   ]
  },
  {
   "cell_type": "markdown",
   "metadata": {},
   "source": [
    "We have covered some of the most basic commands for working with git for our own repository. There are many other commands that make common tasks more convenient though:"
   ]
  },
  {
   "cell_type": "markdown",
   "metadata": {},
   "source": [
    "![](figures/git_local_repository.png)"
   ]
  },
  {
   "cell_type": "markdown",
   "metadata": {},
   "source": [
    "Modified from [blog-pedrezo.com](http://blog.podrezo.com/git-introduction-for-cvssvntfs-users/)"
   ]
  },
  {
   "cell_type": "markdown",
   "metadata": {},
   "source": [
    "# Collaboration with Git and GitHub"
   ]
  },
  {
   "cell_type": "markdown",
   "metadata": {},
   "source": [
    "##### Questions:\n",
    "- \"How do I share my changes with others on the web?\"\n",
    "- \"How can I use version control to collaborate with other people?\"\n",
    "- \"What do I do when my changes conflict with someone else's?\""
   ]
  },
  {
   "cell_type": "markdown",
   "metadata": {},
   "source": [
    "##### Objectives:\n",
    "- \"Explain what remote repositories are and why they are useful.\"\n",
    "- \"Push to or pull from a remote repository.\"\n",
    "- \"Clone a remote repository.\"\n",
    "- \"Collaborate  by forking a repository and submitting a pull request.\"\n",
    "- \"Explain what conflicts are and when they can occur.\"\n",
    "- \"Resolve conflicts resulting from a merge.\""
   ]
  },
  {
   "cell_type": "markdown",
   "metadata": {},
   "source": [
    "##### Keypoints:\n",
    "- \"A local Git repository can be connected to one or more remote repositories.\"\n",
    "- \"Use the HTTPS protocol to connect to remote repositories until you have learned how to set up SSH.\"\n",
    "- \"`git push` copies changes from a local repository to a remote repository.\"\n",
    "- \"`git pull` copies changes from a remote repository to a local repository.\"\n",
    "- \"`git clone` copies a remote repository to create a local repository with a remote called `origin` automatically set up.\"\n",
    "- \"Conflicts occur when two or more people change the same file(s) at the same time.\"\n",
    "- \"The version control system does not allow people to overwrite each other's changes blindly, but highlights conflicts so that they can be resolved.\""
   ]
  },
  {
   "cell_type": "markdown",
   "metadata": {},
   "source": [
    "<img src=\"figures/git_remote_intro.png\" alt=\"Drawing\" style=\"width: 800px;\"/>\n"
   ]
  },
  {
   "cell_type": "markdown",
   "metadata": {},
   "source": [
    "##  Repositories on GitHub"
   ]
  },
  {
   "cell_type": "markdown",
   "metadata": {},
   "source": [
    "Version control really comes into its own when we begin to collaborate with\n",
    "other people.  We already have most of the machinery we need to do this; the\n",
    "only thing missing is to copy changes from one repository to another."
   ]
  },
  {
   "cell_type": "markdown",
   "metadata": {},
   "source": [
    "Systems like Git allow us to move work between any two repositories.  In\n",
    "practice, though, it's easiest to use one copy as a central hub, and to keep it\n",
    "on the web rather than on someone's laptop.  Most programmers use hosting\n",
    "services like [GitHub](http://github.com), [BitBucket](http://bitbucket.org) or\n",
    "[GitLab](http://gitlab.com/) to hold those master copies."
   ]
  },
  {
   "cell_type": "markdown",
   "metadata": {},
   "source": [
    "> ##### HTTPS vs. SSH\n",
    "\n",
    "> We use HTTPS here because it does not require additional configuration.  After\n",
    "> the workshop you may want to set up SSH access, which is a bit more secure, by\n",
    "> following one of the great tutorials from\n",
    "> [GitHub](https://help.github.com/articles/generating-ssh-keys),\n",
    "> [Atlassian/BitBucket](https://confluence.atlassian.com/display/BITBUCKET/Set+up+SSH+for+Git)\n",
    "> and [GitLab](https://about.gitlab.com/2014/03/04/add-ssh-key-screencast/)\n",
    "> (this one has a screencast)."
   ]
  },
  {
   "cell_type": "markdown",
   "metadata": {},
   "source": [
    "![](figures/git-operations.png)"
   ]
  },
  {
   "cell_type": "markdown",
   "metadata": {},
   "source": [
    "## Working with more than one remote repository"
   ]
  },
  {
   "cell_type": "markdown",
   "metadata": {},
   "source": [
    "![](figures/git_remote_collaboration.png)"
   ]
  },
  {
   "cell_type": "markdown",
   "metadata": {},
   "source": [
    "### Overview of collaboration workflow"
   ]
  },
  {
   "cell_type": "markdown",
   "metadata": {},
   "source": [
    "1. The collaborator forks the owners repository.\n",
    "1. The collaborator makes an edit.\n",
    "1. The collaborator submits a pull request for this edit.\n",
    "1. The owner reviews and accepts this edit to merge the changes into their original repository."
   ]
  }
 ],
 "metadata": {
  "kernelspec": {
   "display_name": "Bash",
   "language": "bash",
   "name": "bash"
  },
  "language_info": {
   "codemirror_mode": "shell",
   "file_extension": ".sh",
   "mimetype": "text/x-sh",
   "name": "bash"
  },
  "toc": {
   "colors": {
    "hover_highlight": "#DAA520",
    "navigate_num": "#000000",
    "navigate_text": "#333333",
    "running_highlight": "#FF0000",
    "selected_highlight": "#FFD700",
    "sidebar_border": "#EEEEEE",
    "wrapper_background": "#FFFFFF"
   },
   "moveMenuLeft": true,
   "nav_menu": {
    "height": "901px",
    "width": "309px"
   },
   "navigate_menu": true,
   "number_sections": true,
   "sideBar": true,
   "threshold": 4,
   "toc_cell": true,
   "toc_position": {
    "height": "1055px",
    "left": "0px",
    "right": "auto",
    "top": "105px",
    "width": "212px"
   },
   "toc_section_display": "block",
   "toc_window_display": false,
   "widenNotebook": false
  }
 },
 "nbformat": 4,
 "nbformat_minor": 2
}
